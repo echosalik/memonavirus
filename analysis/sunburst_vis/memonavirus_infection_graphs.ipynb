{
 "cells": [
  {
   "cell_type": "code",
   "execution_count": 3,
   "metadata": {},
   "outputs": [
    {
     "name": "stdout",
     "output_type": "stream",
     "text": [
      "memes_comments.20.19.log    memes_infections.20.20.log\r\n",
      "memes_comments.20.20.log    memes_infections.20.21.log\r\n",
      "memes_comments.20.21.log    memes_infections.20.22.log\r\n",
      "memes_comments.20.22.log    memes_infections.20.23.log\r\n",
      "memes_comments.20.23.log    memes_infections.21.0.log\r\n",
      "memes_comments.21.0.log     memes_infections.21.10.log\r\n",
      "memes_comments.21.10.log    memes_infections.21.11.log\r\n",
      "memes_comments.21.11.log    memes_infections.21.1.log\r\n",
      "memes_comments.21.1.log     memes_infections.21.2.log\r\n",
      "memes_comments.21.2.log     memes_infections.21.3.log\r\n",
      "memes_comments.21.3.log     memes_infections.21.4.log\r\n",
      "memes_comments.21.4.log     memes_infections.21.5.log\r\n",
      "memes_comments.21.5.log     memes_infections.21.6.log\r\n",
      "memes_comments.21.6.log     memes_infections.21.7.log\r\n",
      "memes_comments.21.7.log     memes_infections.21.8.log\r\n",
      "memes_comments.21.8.log     memes_infections.21.9.log\r\n",
      "memes_comments.21.9.log     README.md\r\n",
      "memes_infections.20.19.log\r\n"
     ]
    }
   ],
   "source": [
    "!ls ../../data/"
   ]
  },
  {
   "cell_type": "code",
   "execution_count": 1,
   "metadata": {},
   "outputs": [],
   "source": [
    "# imports\n",
    "\n",
    "%matplotlib inline\n",
    "\n",
    "# import codecs\n",
    "import pandas\n",
    "import glob\n",
    "from datetime import datetime\n",
    "from collections import defaultdict\n",
    "import numpy as np\n",
    "\n",
    "# import networkx as nx\n",
    "# import plotly.graph_objects as go\n",
    "import plotly.express as px"
   ]
  },
  {
   "cell_type": "code",
   "execution_count": 4,
   "metadata": {},
   "outputs": [
    {
     "data": {
      "text/plain": [
       "['../../data/memes_infections.20.19.log',\n",
       " '../../data/memes_infections.20.20.log',\n",
       " '../../data/memes_infections.20.21.log',\n",
       " '../../data/memes_infections.20.22.log',\n",
       " '../../data/memes_infections.20.23.log',\n",
       " '../../data/memes_infections.21.0.log',\n",
       " '../../data/memes_infections.21.1.log',\n",
       " '../../data/memes_infections.21.10.log',\n",
       " '../../data/memes_infections.21.11.log',\n",
       " '../../data/memes_infections.21.2.log',\n",
       " '../../data/memes_infections.21.3.log',\n",
       " '../../data/memes_infections.21.4.log',\n",
       " '../../data/memes_infections.21.5.log',\n",
       " '../../data/memes_infections.21.6.log',\n",
       " '../../data/memes_infections.21.7.log',\n",
       " '../../data/memes_infections.21.8.log',\n",
       " '../../data/memes_infections.21.9.log']"
      ]
     },
     "execution_count": 4,
     "metadata": {},
     "output_type": "execute_result"
    }
   ],
   "source": [
    "glob.glob('../../data/memes_infections*.log')"
   ]
  },
  {
   "cell_type": "code",
   "execution_count": 2,
   "metadata": {},
   "outputs": [],
   "source": [
    "PATIENT_0 = 'u/woodendoors7'"
   ]
  },
  {
   "cell_type": "code",
   "execution_count": 3,
   "metadata": {},
   "outputs": [
    {
     "name": "stdout",
     "output_type": "stream",
     "text": [
      "51318\n"
     ]
    },
    {
     "data": {
      "text/html": [
       "<div>\n",
       "<style scoped>\n",
       "    .dataframe tbody tr th:only-of-type {\n",
       "        vertical-align: middle;\n",
       "    }\n",
       "\n",
       "    .dataframe tbody tr th {\n",
       "        vertical-align: top;\n",
       "    }\n",
       "\n",
       "    .dataframe thead th {\n",
       "        text-align: right;\n",
       "    }\n",
       "</style>\n",
       "<table border=\"1\" class=\"dataframe\">\n",
       "  <thead>\n",
       "    <tr style=\"text-align: right;\">\n",
       "      <th></th>\n",
       "      <th>post_dt</th>\n",
       "      <th>infectee_name</th>\n",
       "      <th>infectee_post_id</th>\n",
       "      <th>infector_name</th>\n",
       "      <th>infector_post_id</th>\n",
       "      <th>comment_or_submission</th>\n",
       "    </tr>\n",
       "  </thead>\n",
       "  <tbody>\n",
       "    <tr>\n",
       "      <th>0</th>\n",
       "      <td>2020-03-20 19:59:59.000000</td>\n",
       "      <td>u/woodendoors7</td>\n",
       "      <td>NaN</td>\n",
       "      <td>NaN</td>\n",
       "      <td>NaN</td>\n",
       "      <td>NaN</td>\n",
       "    </tr>\n",
       "    <tr>\n",
       "      <th>0</th>\n",
       "      <td>2020-03-20 20:35:13.853753</td>\n",
       "      <td>u/austind9999</td>\n",
       "      <td>fl2h4gq</td>\n",
       "      <td>u/woodendoors7</td>\n",
       "      <td>fl2gay3</td>\n",
       "      <td>C</td>\n",
       "    </tr>\n",
       "    <tr>\n",
       "      <th>1</th>\n",
       "      <td>2020-03-20 20:37:34.242409</td>\n",
       "      <td>u/unclerico589</td>\n",
       "      <td>fl2hcd5</td>\n",
       "      <td>u/woodendoors7</td>\n",
       "      <td>fl2f39v</td>\n",
       "      <td>C</td>\n",
       "    </tr>\n",
       "    <tr>\n",
       "      <th>2</th>\n",
       "      <td>2020-03-20 20:40:43.198092</td>\n",
       "      <td>u/saikmat</td>\n",
       "      <td>fl2hmgw</td>\n",
       "      <td>u/woodendoors7</td>\n",
       "      <td>fl2hgh0</td>\n",
       "      <td>C</td>\n",
       "    </tr>\n",
       "    <tr>\n",
       "      <th>3</th>\n",
       "      <td>2020-03-20 20:45:22.757004</td>\n",
       "      <td>u/Nash_underscore</td>\n",
       "      <td>fl2hzd9</td>\n",
       "      <td>u/woodendoors7</td>\n",
       "      <td>fl2hyeu</td>\n",
       "      <td>C</td>\n",
       "    </tr>\n",
       "  </tbody>\n",
       "</table>\n",
       "</div>"
      ],
      "text/plain": [
       "                     post_dt      infectee_name infectee_post_id  \\\n",
       "0 2020-03-20 19:59:59.000000     u/woodendoors7              NaN   \n",
       "0 2020-03-20 20:35:13.853753      u/austind9999          fl2h4gq   \n",
       "1 2020-03-20 20:37:34.242409     u/unclerico589          fl2hcd5   \n",
       "2 2020-03-20 20:40:43.198092          u/saikmat          fl2hmgw   \n",
       "3 2020-03-20 20:45:22.757004  u/Nash_underscore          fl2hzd9   \n",
       "\n",
       "    infector_name infector_post_id comment_or_submission  \n",
       "0             NaN              NaN                   NaN  \n",
       "0  u/woodendoors7          fl2gay3                     C  \n",
       "1  u/woodendoors7          fl2f39v                     C  \n",
       "2  u/woodendoors7          fl2hgh0                     C  \n",
       "3  u/woodendoors7          fl2hyeu                     C  "
      ]
     },
     "execution_count": 3,
     "metadata": {},
     "output_type": "execute_result"
    }
   ],
   "source": [
    "# doc = codecs.open('../data/memes_infections.20.20.log','rU','UTF-16')\n",
    "all_files = glob.glob('../../data/memes_infections*.log')\n",
    "get_file = lambda fname: pandas.read_csv(\n",
    "    fname,\n",
    "    sep='\\t',\n",
    "    header=None,\n",
    "    names=['post_dt',\n",
    "            'infectee_name',\n",
    "            'infectee_post_id',\n",
    "            'infector_name',\n",
    "            'infector_post_id',\n",
    "            'comment_or_submission'],\n",
    "    parse_dates=['post_dt']\n",
    ")\n",
    "df = pandas.concat([get_file(f) for f in all_files])\n",
    "df.sort_values('post_dt', inplace=True)\n",
    "print(df.size)\n",
    "df.head()"
   ]
  },
  {
   "cell_type": "code",
   "execution_count": 4,
   "metadata": {},
   "outputs": [
    {
     "data": {
      "text/plain": [
       "[post_dt                  2020-03-20 19:59:59\n",
       " infectee_name                 u/woodendoors7\n",
       " infectee_post_id                         NaN\n",
       " infector_name                            NaN\n",
       " infector_post_id                         NaN\n",
       " comment_or_submission                    NaN\n",
       " Name: 0, dtype: object]"
      ]
     },
     "execution_count": 4,
     "metadata": {},
     "output_type": "execute_result"
    }
   ],
   "source": [
    "[row for index, row in df.iterrows() if row.infectee_name == PATIENT_0]"
   ]
  },
  {
   "cell_type": "code",
   "execution_count": 50,
   "metadata": {},
   "outputs": [
    {
     "data": {
      "text/html": [
       "<div>\n",
       "<style scoped>\n",
       "    .dataframe tbody tr th:only-of-type {\n",
       "        vertical-align: middle;\n",
       "    }\n",
       "\n",
       "    .dataframe tbody tr th {\n",
       "        vertical-align: top;\n",
       "    }\n",
       "\n",
       "    .dataframe thead th {\n",
       "        text-align: right;\n",
       "    }\n",
       "</style>\n",
       "<table border=\"1\" class=\"dataframe\">\n",
       "  <thead>\n",
       "    <tr style=\"text-align: right;\">\n",
       "      <th></th>\n",
       "      <th>post_dt</th>\n",
       "      <th>infectee_name</th>\n",
       "      <th>infectee_post_id</th>\n",
       "      <th>infector_name</th>\n",
       "      <th>infector_post_id</th>\n",
       "      <th>comment_or_submission</th>\n",
       "    </tr>\n",
       "  </thead>\n",
       "  <tbody>\n",
       "    <tr>\n",
       "      <th>0</th>\n",
       "      <td>2020-03-20 20:35:13.853753</td>\n",
       "      <td>u/austind9999</td>\n",
       "      <td>fl2h4gq</td>\n",
       "      <td>u/woodendoors7</td>\n",
       "      <td>fl2gay3</td>\n",
       "      <td>C</td>\n",
       "    </tr>\n",
       "    <tr>\n",
       "      <th>1</th>\n",
       "      <td>2020-03-20 20:37:34.242409</td>\n",
       "      <td>u/unclerico589</td>\n",
       "      <td>fl2hcd5</td>\n",
       "      <td>u/woodendoors7</td>\n",
       "      <td>fl2f39v</td>\n",
       "      <td>C</td>\n",
       "    </tr>\n",
       "  </tbody>\n",
       "</table>\n",
       "</div>"
      ],
      "text/plain": [
       "                     post_dt   infectee_name infectee_post_id   infector_name  \\\n",
       "0 2020-03-20 20:35:13.853753   u/austind9999          fl2h4gq  u/woodendoors7   \n",
       "1 2020-03-20 20:37:34.242409  u/unclerico589          fl2hcd5  u/woodendoors7   \n",
       "\n",
       "  infector_post_id comment_or_submission  \n",
       "0          fl2gay3                     C  \n",
       "1          fl2f39v                     C  "
      ]
     },
     "execution_count": 50,
     "metadata": {},
     "output_type": "execute_result"
    }
   ],
   "source": [
    "# list(df.iterrows())[0][1].to_dict()\n",
    "# df[:2]"
   ]
  },
  {
   "cell_type": "code",
   "execution_count": 40,
   "metadata": {},
   "outputs": [],
   "source": [
    "# infection_graph = nx.DiGraph()\n",
    "\n",
    "# for index, row in df.iterrows():\n",
    "#     infection_graph.add_node(row.infector_name)\n",
    "#     infection_graph.add_node(row.infectee_name)\n",
    "#     infection_graph.add_edge(row.infector_name, row.infectee_name, **row.to_dict())\n",
    "# infection_graph.edges(data=True)"
   ]
  },
  {
   "cell_type": "code",
   "execution_count": 4,
   "metadata": {},
   "outputs": [],
   "source": [
    "infectee_infector = {}\n",
    "for index, row in df.iterrows():\n",
    "    infectee_infector[row.infectee_name] = row.infector_name"
   ]
  },
  {
   "cell_type": "code",
   "execution_count": 5,
   "metadata": {},
   "outputs": [
    {
     "data": {
      "text/plain": [
       "8553"
      ]
     },
     "execution_count": 5,
     "metadata": {},
     "output_type": "execute_result"
    }
   ],
   "source": [
    "len(infectee_infector)"
   ]
  },
  {
   "cell_type": "code",
   "execution_count": 59,
   "metadata": {},
   "outputs": [
    {
     "name": "stdout",
     "output_type": "stream",
     "text": [
      "{'post_dt': Timestamp('2020-03-21 21:38:03.346314'), 'infectee_post_id': 'fl5mp0q', 'infectee_name': 'u/Ericool35', 'comment_or_submission': 'C', 'infector_post_id': 'fl5mjrt', 'infector_name': 'u/tennobytemusic'}\n",
      "22\n"
     ]
    }
   ],
   "source": [
    "data = {\n",
    "    'infectee': [],\n",
    "    'infector': [],\n",
    "    'value': []\n",
    "}\n",
    "processed = set()\n",
    "\n",
    "def get_patient_0(user):\n",
    "    if user in processed:\n",
    "        return None\n",
    "    else:\n",
    "        processed.add(user)\n",
    "    if user not in infectee_infector or user == PATIENT_0:\n",
    "        return user\n",
    "    else:\n",
    "        return get_patient_0(infectee_infector[user])\n",
    "\n",
    "valid_infectors = {}\n",
    "valid_infectors[np.NaN] = []\n",
    "invalid_infectors = set()\n",
    "valid = set()\n",
    "count = 0\n",
    "for index, row in df.iterrows():\n",
    "    count+=1\n",
    "    processed = set()\n",
    "    source_pat_0 = get_patient_0(row.infector_name)\n",
    "    if source_pat_0 == PATIENT_0 or (row.infector_name is np.NaN):\n",
    "        if row.infector_name in valid_infectors: # and len(valid_infectors[row.infector_name]) <= 20:\n",
    "            valid_infectors[row.infector_name].append(row.infectee_name)\n",
    "            valid_infectors[row.infectee_name] = []\n",
    "            data['infector'].append(row.infector_name if row.infector_name is not np.NaN else '')\n",
    "            data['infectee'].append(row.infectee_name)\n",
    "            data['value'].append(1)\n",
    "    else:\n",
    "        invalid_infectors.add(source_pat_0)\n",
    "    if count == 3000:\n",
    "        print(row.to_dict())\n",
    "        break\n",
    "\n",
    "print(len(invalid_infectors))\n",
    "# from pprint import pprint; pprint(data)\n",
    "\n",
    "fig = px.sunburst(\n",
    "    data,\n",
    "    names='infectee',\n",
    "    parents='infector',\n",
    "    values='value',\n",
    ")\n",
    "# fig.show()"
   ]
  },
  {
   "cell_type": "code",
   "execution_count": null,
   "metadata": {},
   "outputs": [],
   "source": [
    "invalid_infectors"
   ]
  },
  {
   "cell_type": "code",
   "execution_count": 53,
   "metadata": {},
   "outputs": [
    {
     "data": {
      "text/plain": [
       "orca status\n",
       "-----------\n",
       "    state: running\n",
       "    executable: /home/pmr3mh/miniconda3/lib/orca_app/orca\n",
       "    version: 1.2.1\n",
       "    port: 44429\n",
       "    pid: 2312\n",
       "    command: ['/home/pmr3mh/miniconda3/lib/orca_app/orca', 'serve', '-p', '44429', '--plotly', '/home/pmr3mh/.virtualenvs/nd230-ml-tensorflow-p1/lib/python3.5/site-packages/plotly/package_data/plotly.min.js', '--graph-only', '--mathjax', 'https://cdnjs.cloudflare.com/ajax/libs/mathjax/2.7.5/MathJax.js']\n"
      ]
     },
     "execution_count": 53,
     "metadata": {},
     "output_type": "execute_result"
    }
   ],
   "source": [
    "import plotly.io as pio\n",
    "# pio.orca.shutdown_server()\n",
    "# pio.orca.config.executable = '/home/pmr3mh/miniconda3/lib/orca_app/orca'\n",
    "# pio.orca.config.server_url = None\n",
    "# pio.orca.config.port = None\n",
    "# pio.orca.config.save()\n",
    "# pio.orca.ensure_server()\n",
    "# pio.orca.config\n",
    "pio.orca.status"
   ]
  },
  {
   "cell_type": "code",
   "execution_count": 62,
   "metadata": {},
   "outputs": [
    {
     "name": "stdout",
     "output_type": "stream",
     "text": [
      "2020-03-23T00:53:48.692501\n"
     ]
    }
   ],
   "source": [
    "# import subprocess\n",
    "# subprocess.Popen([\"/home/pmr3mh/miniconda3/lib/orca_app/orca\", \"-p\", \"--plotly\", \"--graph-only\", \"--mathjax\", \"serve\", \"37587\", \"/home/pmr3mh/.virtualenvs/nd230-ml-tensorflow-p1/lib/python3.5/site-packages/plotly/package_data/plotly.min.js\", \"https://cdnjs.cloudflare.com/ajax/libs/mathjax/2.7.5/MathJax.js\", \"--keep-alive\"], stdout=subprocess.PIPE, shell=True)\n",
    "timestamp = datetime.utcnow().isoformat()\n",
    "print(datetime.utcnow().isoformat())\n",
    "fig.write_image('plot_{}.png'.format(timestamp), width=800, height=800, scale=5)"
   ]
  },
  {
   "cell_type": "code",
   "execution_count": 184,
   "metadata": {},
   "outputs": [
    {
     "name": "stdout",
     "output_type": "stream",
     "text": [
      "2020-03-22T23:21:27.342423\n"
     ]
    }
   ],
   "source": [
    "print(datetime.utcnow().isoformat())"
   ]
  },
  {
   "cell_type": "code",
   "execution_count": 169,
   "metadata": {},
   "outputs": [
    {
     "name": "stdout",
     "output_type": "stream",
     "text": [
      "u/woodendoors7\n",
      "['u/moxif', 'u/Http-Chief', 'u/B3a_ns', 'u/memes-69-420', 'u/Frugal-Redditor', 'u/ollopii', 'u/woodendoors7']\n",
      "21\n",
      "True\n",
      "True\n",
      "True\n",
      "True\n"
     ]
    },
    {
     "data": {
      "text/html": [
       "<div>\n",
       "<style scoped>\n",
       "    .dataframe tbody tr th:only-of-type {\n",
       "        vertical-align: middle;\n",
       "    }\n",
       "\n",
       "    .dataframe tbody tr th {\n",
       "        vertical-align: top;\n",
       "    }\n",
       "\n",
       "    .dataframe thead th {\n",
       "        text-align: right;\n",
       "    }\n",
       "</style>\n",
       "<table border=\"1\" class=\"dataframe\">\n",
       "  <thead>\n",
       "    <tr style=\"text-align: right;\">\n",
       "      <th></th>\n",
       "      <th>post_dt</th>\n",
       "      <th>infectee_name</th>\n",
       "      <th>infectee_post_id</th>\n",
       "      <th>infector_name</th>\n",
       "      <th>infector_post_id</th>\n",
       "      <th>comment_or_submission</th>\n",
       "    </tr>\n",
       "  </thead>\n",
       "  <tbody>\n",
       "    <tr>\n",
       "      <th>70</th>\n",
       "      <td>2020-03-21 22:11:53.966537</td>\n",
       "      <td>u/moxif</td>\n",
       "      <td>fl5po8x</td>\n",
       "      <td>u/Http-Chief</td>\n",
       "      <td>fl5opfg</td>\n",
       "      <td>C</td>\n",
       "    </tr>\n",
       "    <tr>\n",
       "      <th>77</th>\n",
       "      <td>2020-03-21 22:13:32.563594</td>\n",
       "      <td>u/moxif</td>\n",
       "      <td>fl5pret</td>\n",
       "      <td>u/Http-Chief</td>\n",
       "      <td>fl5popk</td>\n",
       "      <td>C</td>\n",
       "    </tr>\n",
       "    <tr>\n",
       "      <th>190</th>\n",
       "      <td>2020-03-21 22:28:33.660360</td>\n",
       "      <td>u/space10101</td>\n",
       "      <td>fl5rguk</td>\n",
       "      <td>u/moxif</td>\n",
       "      <td>fl5pret</td>\n",
       "      <td>C</td>\n",
       "    </tr>\n",
       "    <tr>\n",
       "      <th>195</th>\n",
       "      <td>2020-03-21 22:29:09.491284</td>\n",
       "      <td>u/space10101</td>\n",
       "      <td>fl5rich</td>\n",
       "      <td>u/moxif</td>\n",
       "      <td>fl5rhpi</td>\n",
       "      <td>C</td>\n",
       "    </tr>\n",
       "    <tr>\n",
       "      <th>32</th>\n",
       "      <td>2020-03-22 02:05:11.182035</td>\n",
       "      <td>u/Poisunousp</td>\n",
       "      <td>fl676wt</td>\n",
       "      <td>u/moxif</td>\n",
       "      <td>fl5po8x</td>\n",
       "      <td>C</td>\n",
       "    </tr>\n",
       "    <tr>\n",
       "      <th>306</th>\n",
       "      <td>2020-03-22 04:47:28.509781</td>\n",
       "      <td>u/He_is_the_Man</td>\n",
       "      <td>fl6fcs5</td>\n",
       "      <td>u/moxif</td>\n",
       "      <td>fl5pret</td>\n",
       "      <td>C</td>\n",
       "    </tr>\n",
       "  </tbody>\n",
       "</table>\n",
       "</div>"
      ],
      "text/plain": [
       "                       post_dt    infectee_name infectee_post_id  \\\n",
       "70  2020-03-21 22:11:53.966537          u/moxif          fl5po8x   \n",
       "77  2020-03-21 22:13:32.563594          u/moxif          fl5pret   \n",
       "190 2020-03-21 22:28:33.660360     u/space10101          fl5rguk   \n",
       "195 2020-03-21 22:29:09.491284     u/space10101          fl5rich   \n",
       "32  2020-03-22 02:05:11.182035     u/Poisunousp          fl676wt   \n",
       "306 2020-03-22 04:47:28.509781  u/He_is_the_Man          fl6fcs5   \n",
       "\n",
       "    infector_name infector_post_id comment_or_submission  \n",
       "70   u/Http-Chief          fl5opfg                     C  \n",
       "77   u/Http-Chief          fl5popk                     C  \n",
       "190       u/moxif          fl5pret                     C  \n",
       "195       u/moxif          fl5rhpi                     C  \n",
       "32        u/moxif          fl5po8x                     C  \n",
       "306       u/moxif          fl5pret                     C  "
      ]
     },
     "execution_count": 169,
     "metadata": {},
     "output_type": "execute_result"
    }
   ],
   "source": [
    "test_infector = 'u/Vile-Bagger'\n",
    "processed = set()\n",
    "hier = []\n",
    "def get_patient_0(user):\n",
    "    hier.append(user)\n",
    "    if user in processed:\n",
    "        print(user)\n",
    "        return None\n",
    "    else:\n",
    "        processed.add(user)\n",
    "    if user not in infectee_infector or user == PATIENT_0:\n",
    "        return user\n",
    "    else:\n",
    "        return get_patient_0(infectee_infector[user])\n",
    "print(get_patient_0(test_infector))\n",
    "print(hier)\n",
    "print(len(valid_infectors[hier[1]]))\n",
    "print(test_infector in valid_infectors[hier[1]])\n",
    "print(test_infector in valid_infectors)\n",
    "print(test_infector in data['infector'])\n",
    "print(test_infector in data['infectee'])\n",
    "df.loc[(df['infector_name'] == test_infector) | (df['infectee_name'] == test_infector)]"
   ]
  }
 ],
 "metadata": {
  "kernelspec": {
   "display_name": "Python 3",
   "language": "python",
   "name": "python3"
  },
  "language_info": {
   "codemirror_mode": {
    "name": "ipython",
    "version": 3
   },
   "file_extension": ".py",
   "mimetype": "text/x-python",
   "name": "python",
   "nbconvert_exporter": "python",
   "pygments_lexer": "ipython3",
   "version": "3.5.3"
  }
 },
 "nbformat": 4,
 "nbformat_minor": 4
}
